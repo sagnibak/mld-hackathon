{
 "cells": [
  {
   "cell_type": "code",
   "execution_count": 25,
   "metadata": {},
   "outputs": [],
   "source": [
    "# prevent GPU allocation problems\n",
    "import os\n",
    "os.environ[\"CUDA_VISIBLE_DEVICES\"]=\"-1\"\n",
    "import sys\n",
    "sys.path.append('..')\n",
    "\n",
    "from keras.models import load_model\n",
    "import numpy as np\n",
    "\n",
    "from load_data import get_train_data, gen_test_data"
   ]
  },
  {
   "cell_type": "code",
   "execution_count": 27,
   "metadata": {},
   "outputs": [
    {
     "name": "stdout",
     "output_type": "stream",
     "text": [
      "/d/sagniD/sp19/mldecal/mld-hackathon/notebooks\n"
     ]
    }
   ],
   "source": [
    "!pwd"
   ]
  },
  {
   "cell_type": "code",
   "execution_count": 50,
   "metadata": {},
   "outputs": [
    {
     "name": "stdout",
     "output_type": "stream",
     "text": [
      "_________________________________________________________________\n",
      "Layer (type)                 Output Shape              Param #   \n",
      "=================================================================\n",
      "input_20 (InputLayer)        (None, 784)               0         \n",
      "_________________________________________________________________\n",
      "dense_39 (Dense)             (None, 40)                31360     \n",
      "_________________________________________________________________\n",
      "dense_40 (Dense)             (None, 1)                 40        \n",
      "=================================================================\n",
      "Total params: 31,400\n",
      "Trainable params: 31,400\n",
      "Non-trainable params: 0\n",
      "_________________________________________________________________\n"
     ]
    }
   ],
   "source": [
    "final_model = load_model('../models/ckpt_model_2_19.h5', compile=False)\n",
    "final_model.summary()"
   ]
  },
  {
   "cell_type": "code",
   "execution_count": 68,
   "metadata": {},
   "outputs": [],
   "source": [
    "r = -2.057989149761852e-05\n",
    "decision_score = lambda img: final_model.predict(img) - r\n",
    "decision = lambda d_score: 1 - (d_score >= 0).astype(np.int)  # d_score >= 0 => in-distribution -> 0"
   ]
  },
  {
   "cell_type": "code",
   "execution_count": 77,
   "metadata": {},
   "outputs": [],
   "source": [
    "NUM_TEST = 1024\n",
    "test_x, _ = gen_test_data(NUM_TEST)\n",
    "\n",
    "# for i in range(len(test_x)):\n",
    "decision_scores = decision_score(test_x.reshape(NUM_TEST, -1))\n",
    "decisions = decision(decision_score(test_x.reshape(NUM_TEST, -1)))"
   ]
  },
  {
   "cell_type": "code",
   "execution_count": 54,
   "metadata": {},
   "outputs": [
    {
     "data": {
      "text/plain": [
       "array([[4.117793e-05]], dtype=float32)"
      ]
     },
     "execution_count": 54,
     "metadata": {},
     "output_type": "execute_result"
    }
   ],
   "source": [
    "final_model.predict(test_x[0].reshape(1, -1))"
   ]
  },
  {
   "cell_type": "code",
   "execution_count": 74,
   "metadata": {},
   "outputs": [
    {
     "data": {
      "text/plain": [
       "1024"
      ]
     },
     "execution_count": 74,
     "metadata": {},
     "output_type": "execute_result"
    }
   ],
   "source": [
    "np.count_nonzero(decisions == 0)"
   ]
  },
  {
   "cell_type": "code",
   "execution_count": 81,
   "metadata": {},
   "outputs": [
    {
     "data": {
      "text/plain": [
       "array([[4.1177365e-05],\n",
       "       [4.1177758e-05],\n",
       "       [4.1177656e-05],\n",
       "       [4.1177860e-05],\n",
       "       [4.1177991e-05],\n",
       "       [4.1177984e-05],\n",
       "       [4.1177729e-05],\n",
       "       [4.1177984e-05],\n",
       "       [4.1177926e-05],\n",
       "       [4.1177795e-05]], dtype=float32)"
      ]
     },
     "execution_count": 81,
     "metadata": {},
     "output_type": "execute_result"
    }
   ],
   "source": [
    "decision_score(np.random.uniform(-1., 1., (10, 784)).astype(np.float32)) + r"
   ]
  },
  {
   "cell_type": "code",
   "execution_count": 75,
   "metadata": {},
   "outputs": [
    {
     "data": {
      "text/plain": [
       "array([[0],\n",
       "       [0],\n",
       "       [0],\n",
       "       ...,\n",
       "       [0],\n",
       "       [0],\n",
       "       [0]])"
      ]
     },
     "execution_count": 75,
     "metadata": {},
     "output_type": "execute_result"
    }
   ],
   "source": [
    "decisions"
   ]
  },
  {
   "cell_type": "code",
   "execution_count": 82,
   "metadata": {},
   "outputs": [
    {
     "data": {
      "text/plain": [
       "array([[4.1177278e-05],\n",
       "       [4.1177336e-05],\n",
       "       [4.1177285e-05],\n",
       "       ...,\n",
       "       [4.1177358e-05],\n",
       "       [4.1177358e-05],\n",
       "       [4.1177358e-05]], dtype=float32)"
      ]
     },
     "execution_count": 82,
     "metadata": {},
     "output_type": "execute_result"
    }
   ],
   "source": [
    "decision_scores + r"
   ]
  }
 ],
 "metadata": {
  "kernelspec": {
   "display_name": "Python 3",
   "language": "python",
   "name": "python3"
  },
  "language_info": {
   "codemirror_mode": {
    "name": "ipython",
    "version": 3
   },
   "file_extension": ".py",
   "mimetype": "text/x-python",
   "name": "python",
   "nbconvert_exporter": "python",
   "pygments_lexer": "ipython3",
   "version": "3.6.7"
  }
 },
 "nbformat": 4,
 "nbformat_minor": 2
}
